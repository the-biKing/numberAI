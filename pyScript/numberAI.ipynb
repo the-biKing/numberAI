{
 "cells": [
  {
   "cell_type": "markdown",
   "metadata": {},
   "source": [
    "$\\mathbf{I} = \\langle i_{1}, i_{2}, \\dots, i_{4096}\\rangle$  \n",
    "$\\mathbf{H_1}$ has dimensions: `4096 x 128`  \n",
    "$\\mathbf{I} \\cdot \\mathbf{H_1} = \\mathbf{M}$  \n",
    "$\\mathbf{M} = \\langle m_{1}, m_{2}, \\dots, m_{128}\\rangle$  \n"
   ]
  },
  {
   "cell_type": "code",
   "execution_count": 2,
   "metadata": {},
   "outputs": [],
   "source": [
    "import numpy as np\n",
    "# Open the files\n",
    "H1 = np.loadtxt(\"hiddenLayer/H1.txt\")\n",
    "I = np.loadtxt(\"inputText/3.txt\")\n",
    "\n",
    "# Read the contents of the files\n",
    "M = np.dot(H1.T, I)\n",
    "\n",
    "np.savetxt(\"hiddenLayer/M.txt\", M)"
   ]
  },
  {
   "cell_type": "markdown",
   "metadata": {},
   "source": [
    "$\\mathbf{M} = \\langle m_{1}, m_{2}, \\dots, m_{128}\\rangle$  \n",
    "$\\mathbf{H_2}$ has dimensions: `128 x 10`  \n",
    "$\\mathbf{M} \\cdot \\mathbf{H_2} = \\mathbf{A}$  \n",
    "$\\mathbf{A} = \\langle a_{1}, a_{2}, \\dots, a_{10}\\rangle$  "
   ]
  },
  {
   "cell_type": "code",
   "execution_count": 3,
   "metadata": {},
   "outputs": [],
   "source": [
    "import numpy as np\n",
    "# Open the files\n",
    "H2 = np.loadtxt(\"hiddenLayer/H2.txt\")\n",
    "M = np.loadtxt(\"hiddenLayer/M.txt\")\n",
    "\n",
    "# Read the contents of the files\n",
    "A = np.dot(H2.T, M)\n",
    "\n",
    "np.savetxt(\"hiddenLayer/A.txt\", A)"
   ]
  },
  {
   "cell_type": "markdown",
   "metadata": {},
   "source": [
    "**Calculate Loss**  \n",
    "$\\mathbf{A} = \\langle a_{1}, a_{2}, \\dots, a_{10}\\rangle$  \n",
    "$\\mathbf{Loss}=\\sqrt{\\sum_{n=0}^{9} {(\\mathbf{A_n}-\\mathbf{EA_n})}^2}$\n"
   ]
  },
  {
   "cell_type": "code",
   "execution_count": 4,
   "metadata": {},
   "outputs": [
    {
     "name": "stdout",
     "output_type": "stream",
     "text": [
      "Loss: 31564.781745139087\n"
     ]
    }
   ],
   "source": [
    "import numpy as np\n",
    "\n",
    "# Load the matrices from the text files\n",
    "A = np.loadtxt('hiddenLayer/A.txt') \n",
    "EA = np.loadtxt('expectedAnswer/EA3.txt')  \n",
    "\n",
    "# Calculate the Loss\n",
    "Loss = np.sqrt(np.sum((A - EA)**2))\n",
    "\n",
    "print(\"Loss:\", Loss)"
   ]
  },
  {
   "cell_type": "markdown",
   "metadata": {},
   "source": [
    "**Little change**  \n",
    "$\\mathbf{H1_{mn}} := \\mathbf{H1_{mn}} - \\frac{\\mathbf{Loss_{o+change}}-\\mathbf{Loss_{o}}}{change} * \\alpha$  \n",
    "$\\alpha \\propto \\mathbf{Loss_o}$  \n",
    "find the minimum loss\n",
    "\n"
   ]
  },
  {
   "cell_type": "code",
   "execution_count": null,
   "metadata": {},
   "outputs": [],
   "source": []
  }
 ],
 "metadata": {
  "kernelspec": {
   "display_name": "Python 3",
   "language": "python",
   "name": "python3"
  },
  "language_info": {
   "codemirror_mode": {
    "name": "ipython",
    "version": 3
   },
   "file_extension": ".py",
   "mimetype": "text/x-python",
   "name": "python",
   "nbconvert_exporter": "python",
   "pygments_lexer": "ipython3",
   "version": "3.11.4"
  }
 },
 "nbformat": 4,
 "nbformat_minor": 2
}
