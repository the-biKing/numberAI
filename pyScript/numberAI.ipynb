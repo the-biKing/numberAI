{
 "cells": [
  {
   "cell_type": "markdown",
   "metadata": {},
   "source": [
    "$\\mathbf{I} = \\langle i_{1}, i_{2}, \\dots, i_{4096}\\rangle$  \n",
    "$\\mathbf{H_1}$ has dimensions: `4096 x 128`  \n",
    "$\\mathbf{I} \\cdot \\mathbf{H_1} = \\mathbf{M}$  \n",
    "$\\mathbf{M} = \\langle m_{1}, m_{2}, \\dots, m_{128}\\rangle$  \n"
   ]
  },
  {
   "cell_type": "code",
   "execution_count": 34,
   "metadata": {},
   "outputs": [],
   "source": [
    "import numpy as np\n",
    "# Open the files\n",
    "def firstmulti():   #function for first multiplication\n",
    "    H1 = np.loadtxt(\"hiddenLayer/H1.txt\")\n",
    "\n",
    "    for i in range(10):\n",
    "\n",
    "        I = np.loadtxt(f\"inputText/{i}.txt\")\n",
    "        I = I.flatten()\n",
    "        # Read the contents of the files\n",
    "        M = np.dot(H1.T, I)\n",
    "        np.savetxt(f\"hiddenLayer/M{i}.txt\", M)\n",
    "\n",
    "firstmulti()        \n"
   ]
  },
  {
   "cell_type": "markdown",
   "metadata": {},
   "source": [
    "$\\mathbf{M} = \\langle m_{1}, m_{2}, \\dots, m_{128}\\rangle$  \n",
    "$\\mathbf{H_2}$ has dimensions: `128 x 10`  \n",
    "$\\mathbf{M} \\cdot \\mathbf{H_2} = \\mathbf{A}$  \n",
    "$\\mathbf{A} = \\langle a_{1}, a_{2}, \\dots, a_{10}\\rangle$  "
   ]
  },
  {
   "cell_type": "code",
   "execution_count": 35,
   "metadata": {},
   "outputs": [],
   "source": [
    "import numpy as np\n",
    "# Open the files\n",
    "def secondmulti():  #function for second multiplication\n",
    "    H2 = np.loadtxt(\"hiddenLayer/H2.txt\")\n",
    "    for i in range(10):\n",
    "        M = np.loadtxt(f\"hiddenLayer/M{i}.txt\")\n",
    "\n",
    "        # Read the contents of the files\n",
    "        A = np.dot(H2.T, M)\n",
    "        np.savetxt(f\"hiddenLayer/A{i}.txt\", A)\n",
    "        \n",
    "secondmulti()"
   ]
  },
  {
   "cell_type": "markdown",
   "metadata": {},
   "source": [
    "**Calculate Loss**  \n",
    "$\\mathbf{Ak_n} = \\langle a_{1}, a_{2}, \\dots, a_{10}\\rangle$  \n",
    "$\\mathbf{Loss}=\\sqrt{\\sum_{k=0}^{9}\\sum_{n=0}^{9} {(\\mathbf{Ak_n}-\\mathbf{EAk_n})}^2}$\n"
   ]
  },
  {
   "cell_type": "code",
   "execution_count": 38,
   "metadata": {},
   "outputs": [
    {
     "name": "stdout",
     "output_type": "stream",
     "text": [
      "Loss: 100000.0\n"
     ]
    }
   ],
   "source": [
    "import numpy as np\n",
    "\n",
    "Loss=0\n",
    "\n",
    "for i in range(10):\n",
    "# Load the matrices from the text files\n",
    "    A = np.loadtxt(f'hiddenLayer/A{i}.txt') \n",
    "    EA = np.loadtxt(f'expectedAnswer/EA{i}.txt')  \n",
    "\n",
    "    # Calculate the Loss\n",
    "    Loss += np.sqrt(np.sum((A - EA)**2))\n",
    "    \n",
    "minLoss=Loss\n",
    "\n",
    "print(\"Loss:\", Loss)"
   ]
  },
  {
   "cell_type": "markdown",
   "metadata": {},
   "source": [
    "**Little change to decrease Loss**  \n",
    "$\\mathbf{H1_{mn}} := \\mathbf{H1_{mn}} - \\frac{\\mathbf{Loss_{o+change}}-\\mathbf{Loss_{o}}}{change} * \\alpha$  \n",
    "$\\alpha \\propto \\mathbf{Loss_o}$  \n",
    "find the minimum loss\n",
    "\n"
   ]
  },
  {
   "cell_type": "code",
   "execution_count": 41,
   "metadata": {},
   "outputs": [
    {
     "ename": "KeyboardInterrupt",
     "evalue": "",
     "output_type": "error",
     "traceback": [
      "\u001b[1;31m---------------------------------------------------------------------------\u001b[0m",
      "\u001b[1;31mKeyboardInterrupt\u001b[0m                         Traceback (most recent call last)",
      "Cell \u001b[1;32mIn[41], line 10\u001b[0m\n\u001b[0;32m      8\u001b[0m \u001b[38;5;28;01mwhile\u001b[39;00m(Loss\u001b[38;5;241m<\u001b[39m\u001b[38;5;241m=\u001b[39mminLoss):\n\u001b[0;32m      9\u001b[0m     H1[i][j]\u001b[38;5;241m+\u001b[39m\u001b[38;5;241m=\u001b[39m\u001b[38;5;241m0.1\u001b[39m\n\u001b[1;32m---> 10\u001b[0m     \u001b[43mfirstmulti\u001b[49m\u001b[43m(\u001b[49m\u001b[43m)\u001b[49m\n\u001b[0;32m     11\u001b[0m     secondmulti()\n\u001b[0;32m     13\u001b[0m     Loss\u001b[38;5;241m=\u001b[39m\u001b[38;5;241m0\u001b[39m\n",
      "Cell \u001b[1;32mIn[34], line 4\u001b[0m, in \u001b[0;36mfirstmulti\u001b[1;34m()\u001b[0m\n\u001b[0;32m      3\u001b[0m \u001b[38;5;28;01mdef\u001b[39;00m \u001b[38;5;21mfirstmulti\u001b[39m():\n\u001b[1;32m----> 4\u001b[0m     H1 \u001b[38;5;241m=\u001b[39m \u001b[43mnp\u001b[49m\u001b[38;5;241;43m.\u001b[39;49m\u001b[43mloadtxt\u001b[49m\u001b[43m(\u001b[49m\u001b[38;5;124;43m\"\u001b[39;49m\u001b[38;5;124;43mhiddenLayer/H1.txt\u001b[39;49m\u001b[38;5;124;43m\"\u001b[39;49m\u001b[43m)\u001b[49m\n\u001b[0;32m      6\u001b[0m     \u001b[38;5;28;01mfor\u001b[39;00m i \u001b[38;5;129;01min\u001b[39;00m \u001b[38;5;28mrange\u001b[39m(\u001b[38;5;241m10\u001b[39m):\n\u001b[0;32m      8\u001b[0m         I \u001b[38;5;241m=\u001b[39m np\u001b[38;5;241m.\u001b[39mloadtxt(\u001b[38;5;124mf\u001b[39m\u001b[38;5;124m\"\u001b[39m\u001b[38;5;124minputText/\u001b[39m\u001b[38;5;132;01m{\u001b[39;00mi\u001b[38;5;132;01m}\u001b[39;00m\u001b[38;5;124m.txt\u001b[39m\u001b[38;5;124m\"\u001b[39m)\n",
      "File \u001b[1;32mc:\\Users\\jesse\\AppData\\Local\\Programs\\Python\\Python311\\Lib\\site-packages\\numpy\\lib\\npyio.py:1373\u001b[0m, in \u001b[0;36mloadtxt\u001b[1;34m(fname, dtype, comments, delimiter, converters, skiprows, usecols, unpack, ndmin, encoding, max_rows, quotechar, like)\u001b[0m\n\u001b[0;32m   1370\u001b[0m \u001b[38;5;28;01mif\u001b[39;00m \u001b[38;5;28misinstance\u001b[39m(delimiter, \u001b[38;5;28mbytes\u001b[39m):\n\u001b[0;32m   1371\u001b[0m     delimiter \u001b[38;5;241m=\u001b[39m delimiter\u001b[38;5;241m.\u001b[39mdecode(\u001b[38;5;124m'\u001b[39m\u001b[38;5;124mlatin1\u001b[39m\u001b[38;5;124m'\u001b[39m)\n\u001b[1;32m-> 1373\u001b[0m arr \u001b[38;5;241m=\u001b[39m \u001b[43m_read\u001b[49m\u001b[43m(\u001b[49m\u001b[43mfname\u001b[49m\u001b[43m,\u001b[49m\u001b[43m \u001b[49m\u001b[43mdtype\u001b[49m\u001b[38;5;241;43m=\u001b[39;49m\u001b[43mdtype\u001b[49m\u001b[43m,\u001b[49m\u001b[43m \u001b[49m\u001b[43mcomment\u001b[49m\u001b[38;5;241;43m=\u001b[39;49m\u001b[43mcomment\u001b[49m\u001b[43m,\u001b[49m\u001b[43m \u001b[49m\u001b[43mdelimiter\u001b[49m\u001b[38;5;241;43m=\u001b[39;49m\u001b[43mdelimiter\u001b[49m\u001b[43m,\u001b[49m\n\u001b[0;32m   1374\u001b[0m \u001b[43m            \u001b[49m\u001b[43mconverters\u001b[49m\u001b[38;5;241;43m=\u001b[39;49m\u001b[43mconverters\u001b[49m\u001b[43m,\u001b[49m\u001b[43m \u001b[49m\u001b[43mskiplines\u001b[49m\u001b[38;5;241;43m=\u001b[39;49m\u001b[43mskiprows\u001b[49m\u001b[43m,\u001b[49m\u001b[43m \u001b[49m\u001b[43musecols\u001b[49m\u001b[38;5;241;43m=\u001b[39;49m\u001b[43musecols\u001b[49m\u001b[43m,\u001b[49m\n\u001b[0;32m   1375\u001b[0m \u001b[43m            \u001b[49m\u001b[43munpack\u001b[49m\u001b[38;5;241;43m=\u001b[39;49m\u001b[43munpack\u001b[49m\u001b[43m,\u001b[49m\u001b[43m \u001b[49m\u001b[43mndmin\u001b[49m\u001b[38;5;241;43m=\u001b[39;49m\u001b[43mndmin\u001b[49m\u001b[43m,\u001b[49m\u001b[43m \u001b[49m\u001b[43mencoding\u001b[49m\u001b[38;5;241;43m=\u001b[39;49m\u001b[43mencoding\u001b[49m\u001b[43m,\u001b[49m\n\u001b[0;32m   1376\u001b[0m \u001b[43m            \u001b[49m\u001b[43mmax_rows\u001b[49m\u001b[38;5;241;43m=\u001b[39;49m\u001b[43mmax_rows\u001b[49m\u001b[43m,\u001b[49m\u001b[43m \u001b[49m\u001b[43mquote\u001b[49m\u001b[38;5;241;43m=\u001b[39;49m\u001b[43mquotechar\u001b[49m\u001b[43m)\u001b[49m\n\u001b[0;32m   1378\u001b[0m \u001b[38;5;28;01mreturn\u001b[39;00m arr\n",
      "File \u001b[1;32mc:\\Users\\jesse\\AppData\\Local\\Programs\\Python\\Python311\\Lib\\site-packages\\numpy\\lib\\npyio.py:1016\u001b[0m, in \u001b[0;36m_read\u001b[1;34m(fname, delimiter, comment, quote, imaginary_unit, usecols, skiplines, max_rows, converters, ndmin, unpack, dtype, encoding)\u001b[0m\n\u001b[0;32m   1013\u001b[0m     data \u001b[38;5;241m=\u001b[39m _preprocess_comments(data, comments, encoding)\n\u001b[0;32m   1015\u001b[0m \u001b[38;5;28;01mif\u001b[39;00m read_dtype_via_object_chunks \u001b[38;5;129;01mis\u001b[39;00m \u001b[38;5;28;01mNone\u001b[39;00m:\n\u001b[1;32m-> 1016\u001b[0m     arr \u001b[38;5;241m=\u001b[39m _load_from_filelike(\n\u001b[0;32m   1017\u001b[0m         data, delimiter\u001b[38;5;241m=\u001b[39mdelimiter, comment\u001b[38;5;241m=\u001b[39mcomment, quote\u001b[38;5;241m=\u001b[39mquote,\n\u001b[0;32m   1018\u001b[0m         imaginary_unit\u001b[38;5;241m=\u001b[39mimaginary_unit,\n\u001b[0;32m   1019\u001b[0m         usecols\u001b[38;5;241m=\u001b[39musecols, skiplines\u001b[38;5;241m=\u001b[39mskiplines, max_rows\u001b[38;5;241m=\u001b[39mmax_rows,\n\u001b[0;32m   1020\u001b[0m         converters\u001b[38;5;241m=\u001b[39mconverters, dtype\u001b[38;5;241m=\u001b[39mdtype,\n\u001b[0;32m   1021\u001b[0m         encoding\u001b[38;5;241m=\u001b[39mencoding, filelike\u001b[38;5;241m=\u001b[39mfilelike,\n\u001b[0;32m   1022\u001b[0m         byte_converters\u001b[38;5;241m=\u001b[39mbyte_converters)\n\u001b[0;32m   1024\u001b[0m \u001b[38;5;28;01melse\u001b[39;00m:\n\u001b[0;32m   1025\u001b[0m     \u001b[38;5;66;03m# This branch reads the file into chunks of object arrays and then\u001b[39;00m\n\u001b[0;32m   1026\u001b[0m     \u001b[38;5;66;03m# casts them to the desired actual dtype.  This ensures correct\u001b[39;00m\n\u001b[0;32m   1027\u001b[0m     \u001b[38;5;66;03m# string-length and datetime-unit discovery (like `arr.astype()`).\u001b[39;00m\n\u001b[0;32m   1028\u001b[0m     \u001b[38;5;66;03m# Due to chunking, certain error reports are less clear, currently.\u001b[39;00m\n\u001b[0;32m   1029\u001b[0m     \u001b[38;5;28;01mif\u001b[39;00m filelike:\n",
      "\u001b[1;31mKeyboardInterrupt\u001b[0m: "
     ]
    }
   ],
   "source": [
    "zero_matrix = np.zeros((4096, 128), dtype=int)\n",
    "np.savetxt(\"hiddenLayer/H1.txt\", zero_matrix, fmt='%f')\n",
    "# let H1 start from 0\n",
    "H1 = np.loadtxt(\"hiddenLayer/H1.txt\")\n",
    "\n",
    "for i in range(4096):\n",
    "    for j in range(128):\n",
    "        while(Loss<=minLoss): #if loss<original loss keep adding\n",
    "            H1[i][j]+=0.1      #change H1 i j\n",
    "\n",
    "            #multiplication->new Loss\n",
    "            firstmulti()\n",
    "            secondmulti()\n",
    "\n",
    "            Loss=0\n",
    "            for i in range(10):\n",
    "                # Load the matrices from the text files\n",
    "                A = np.loadtxt(f'hiddenLayer/A{i}.txt') \n",
    "                EA = np.loadtxt(f'expectedAnswer/EA{i}.txt')  \n",
    "\n",
    "                # Calculate the Loss\n",
    "                Loss += np.sqrt(np.sum((A - EA)**2))\n",
    "            if H1[i][j]>=1:\n",
    "                break\n",
    "        minLoss=Loss        #if loss>original loss, refresh minloss\n",
    "np.savetxt(\"hiddenLayer/H1.txt\", H1, fmt='%f')\n",
    "        \n",
    "            "
   ]
  }
 ],
 "metadata": {
  "kernelspec": {
   "display_name": "Python 3",
   "language": "python",
   "name": "python3"
  },
  "language_info": {
   "codemirror_mode": {
    "name": "ipython",
    "version": 3
   },
   "file_extension": ".py",
   "mimetype": "text/x-python",
   "name": "python",
   "nbconvert_exporter": "python",
   "pygments_lexer": "ipython3",
   "version": "3.11.4"
  }
 },
 "nbformat": 4,
 "nbformat_minor": 2
}
