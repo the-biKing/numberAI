{
 "cells": [
  {
   "cell_type": "markdown",
   "metadata": {},
   "source": [
    "$\\mathbf{I} = \\langle i_{1}, i_{2}, \\dots, i_{4096}\\rangle$  \n",
    "$\\mathbf{H_1}$ has dimensions: `4096 x 128`  \n",
    "$\\mathbf{I} \\cdot \\mathbf{H_1} = \\mathbf{M}$  \n",
    "$\\mathbf{M} = \\langle m_{1}, m_{2}, \\dots, m_{128}\\rangle$  \n"
   ]
  },
  {
   "cell_type": "code",
   "execution_count": 18,
   "metadata": {},
   "outputs": [],
   "source": [
    "import numpy as np\n",
    "# Open the files\n",
    "H1 = np.loadtxt(\"hiddenLayer/H1.txt\")\n",
    "I = np.loadtxt(\"inputText/3.txt\")\n",
    "\n",
    "# Read the contents of the files\n",
    "M = np.dot(H1.T, I)\n",
    "\n",
    "np.savetxt(\"hiddenLayer/M.txt\", M)"
   ]
  }
 ],
 "metadata": {
  "kernelspec": {
   "display_name": "Python 3",
   "language": "python",
   "name": "python3"
  },
  "language_info": {
   "codemirror_mode": {
    "name": "ipython",
    "version": 3
   },
   "file_extension": ".py",
   "mimetype": "text/x-python",
   "name": "python",
   "nbconvert_exporter": "python",
   "pygments_lexer": "ipython3",
   "version": "3.11.9"
  }
 },
 "nbformat": 4,
 "nbformat_minor": 2
}
